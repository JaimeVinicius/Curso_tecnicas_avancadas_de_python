{
 "cells": [
  {
   "attachments": {},
   "cell_type": "markdown",
   "metadata": {},
   "source": [
    "# Notas de aula:"
   ]
  },
  {
   "cell_type": "code",
   "execution_count": 1,
   "metadata": {},
   "outputs": [
    {
     "name": "stdout",
     "output_type": "stream",
     "text": [
      "False\n"
     ]
    }
   ],
   "source": [
    "x = []\n",
    "print(bool(x))"
   ]
  },
  {
   "cell_type": "code",
   "execution_count": 6,
   "metadata": {},
   "outputs": [
    {
     "name": "stdout",
     "output_type": "stream",
     "text": [
      "b'ABCD'\n",
      "ABCD\n"
     ]
    },
    {
     "ename": "TypeError",
     "evalue": "can't concat str to bytes",
     "output_type": "error",
     "traceback": [
      "\u001b[1;31m---------------------------------------------------------------------------\u001b[0m",
      "\u001b[1;31mTypeError\u001b[0m                                 Traceback (most recent call last)",
      "\u001b[1;32m<ipython-input-6-5a94fce14e9c>\u001b[0m in \u001b[0;36m<module>\u001b[1;34m\u001b[0m\n\u001b[0;32m      4\u001b[0m \u001b[0mprint\u001b[0m\u001b[1;33m(\u001b[0m\u001b[0ma\u001b[0m\u001b[1;33m)\u001b[0m\u001b[1;33m\u001b[0m\u001b[1;33m\u001b[0m\u001b[0m\n\u001b[0;32m      5\u001b[0m \u001b[0mprint\u001b[0m\u001b[1;33m(\u001b[0m\u001b[0mb\u001b[0m\u001b[1;33m)\u001b[0m\u001b[1;33m\u001b[0m\u001b[1;33m\u001b[0m\u001b[0m\n\u001b[1;32m----> 6\u001b[1;33m \u001b[0mprint\u001b[0m\u001b[1;33m(\u001b[0m\u001b[0ma\u001b[0m \u001b[1;33m+\u001b[0m \u001b[0mb\u001b[0m\u001b[1;33m)\u001b[0m\u001b[1;33m\u001b[0m\u001b[1;33m\u001b[0m\u001b[0m\n\u001b[0m",
      "\u001b[1;31mTypeError\u001b[0m: can't concat str to bytes"
     ]
    }
   ],
   "source": [
    "a = bytes([0x41,0x42,0x43,0x44])\n",
    "b = 'ABCD'\n",
    "\n",
    "print(a)\n",
    "print(b)\n",
    "print(a + b)"
   ]
  },
  {
   "cell_type": "code",
   "execution_count": 7,
   "metadata": {},
   "outputs": [
    {
     "name": "stdout",
     "output_type": "stream",
     "text": [
      "ABCDABCD\n"
     ]
    }
   ],
   "source": [
    "print(a.decode('utf-8')+b)"
   ]
  },
  {
   "cell_type": "code",
   "execution_count": 8,
   "metadata": {},
   "outputs": [],
   "source": [
    "from string import Template"
   ]
  },
  {
   "cell_type": "code",
   "execution_count": 15,
   "metadata": {},
   "outputs": [],
   "source": [
    "templ = Template(\"você está assistindo ${curso} de ${instrutora}\")"
   ]
  },
  {
   "cell_type": "code",
   "execution_count": 16,
   "metadata": {},
   "outputs": [
    {
     "data": {
      "text/plain": [
       "'você está assistindo Python Avançado de Professora'"
      ]
     },
     "execution_count": 16,
     "metadata": {},
     "output_type": "execute_result"
    }
   ],
   "source": [
    "frase_2 = templ.substitute(curso='Python Avançado',\n",
    "                           instrutora='Professora')\n",
    "frase_2"
   ]
  },
  {
   "cell_type": "code",
   "execution_count": 17,
   "metadata": {},
   "outputs": [
    {
     "data": {
      "text/plain": [
       "'você está assistindo Python Avaçado de Jessica Terminal'"
      ]
     },
     "execution_count": 17,
     "metadata": {},
     "output_type": "execute_result"
    }
   ],
   "source": [
    "dados = {'curso': 'Python Avaçado',\n",
    "         'instrutora': 'Jessica Terminal'}\n",
    "frase_3 = templ.substitute(dados)\n",
    "frase_3"
   ]
  },
  {
   "cell_type": "code",
   "execution_count": 18,
   "metadata": {},
   "outputs": [],
   "source": [
    "lista_1 = [True,True,True]\n",
    "lista_2 = [True,False,False] "
   ]
  },
  {
   "cell_type": "code",
   "execution_count": 19,
   "metadata": {},
   "outputs": [
    {
     "name": "stdout",
     "output_type": "stream",
     "text": [
      "True\n"
     ]
    }
   ],
   "source": [
    "print(all(lista_1))"
   ]
  },
  {
   "cell_type": "code",
   "execution_count": 20,
   "metadata": {},
   "outputs": [
    {
     "name": "stdout",
     "output_type": "stream",
     "text": [
      "True\n"
     ]
    }
   ],
   "source": [
    "print(any(lista_1))"
   ]
  },
  {
   "cell_type": "code",
   "execution_count": 21,
   "metadata": {},
   "outputs": [
    {
     "name": "stdout",
     "output_type": "stream",
     "text": [
      "False\n"
     ]
    }
   ],
   "source": [
    "print(all(lista_2))"
   ]
  },
  {
   "cell_type": "code",
   "execution_count": 22,
   "metadata": {},
   "outputs": [
    {
     "name": "stdout",
     "output_type": "stream",
     "text": [
      "True\n"
     ]
    }
   ],
   "source": [
    "print(any(lista_2))"
   ]
  },
  {
   "cell_type": "code",
   "execution_count": 23,
   "metadata": {},
   "outputs": [],
   "source": [
    "dias_pt = ['dom','seg','ter','qua','qui','sex','sab']\n",
    "dias_eng = ['sun','mon','tue','wed','thu','fri','sat']"
   ]
  },
  {
   "cell_type": "code",
   "execution_count": 24,
   "metadata": {},
   "outputs": [],
   "source": [
    "# a função iter ajuda a interar sobre um objeto\n",
    "iterador = iter(dias_pt)"
   ]
  },
  {
   "cell_type": "code",
   "execution_count": 25,
   "metadata": {},
   "outputs": [
    {
     "name": "stdout",
     "output_type": "stream",
     "text": [
      "dom\n",
      "seg\n",
      "ter\n"
     ]
    }
   ],
   "source": [
    "for x in range(3):\n",
    "    print(next(iterador))"
   ]
  },
  {
   "cell_type": "code",
   "execution_count": 27,
   "metadata": {},
   "outputs": [
    {
     "name": "stdout",
     "output_type": "stream",
     "text": [
      "essa e a linha 1\n",
      "\n",
      "essa e a linha 2\n",
      "\n",
      "essa e a linha 3\n",
      "\n",
      "essa e a linha 4\n",
      "\n",
      "essa e a linha 5\n",
      "\n",
      "essa e a linha 6\n",
      "\n"
     ]
    }
   ],
   "source": [
    "#É util para ler arquivos de forma 'lasy'\n",
    "with open('dados.txt','r') as fp:\n",
    "    for linha in iter(fp.readline,''):\n",
    "        print(linha)"
   ]
  },
  {
   "cell_type": "code",
   "execution_count": 29,
   "metadata": {},
   "outputs": [
    {
     "name": "stdout",
     "output_type": "stream",
     "text": [
      "0 dom\n",
      "1 seg\n",
      "2 ter\n",
      "3 qua\n",
      "4 qui\n",
      "5 sex\n",
      "6 sab\n"
     ]
    }
   ],
   "source": [
    "for i,dia in enumerate(dias_pt):\n",
    "    print(i,dia)"
   ]
  },
  {
   "cell_type": "code",
   "execution_count": 30,
   "metadata": {},
   "outputs": [],
   "source": [
    "# a função filter permite usar outra função para filtrar uma lista\n",
    "\n",
    "def filtro_pares(x):\n",
    "    return x%2 == 0\n"
   ]
  },
  {
   "cell_type": "code",
   "execution_count": 34,
   "metadata": {},
   "outputs": [],
   "source": [
    "numeros = [1,2,3,4,66,765,987,2]"
   ]
  },
  {
   "cell_type": "code",
   "execution_count": 36,
   "metadata": {},
   "outputs": [
    {
     "data": {
      "text/plain": [
       "[2, 4, 66, 2]"
      ]
     },
     "execution_count": 36,
     "metadata": {},
     "output_type": "execute_result"
    }
   ],
   "source": [
    "list(filter(filtro_pares,numeros))"
   ]
  },
  {
   "cell_type": "code",
   "execution_count": 33,
   "metadata": {},
   "outputs": [
    {
     "data": {
      "text/plain": [
       "False"
      ]
     },
     "execution_count": 33,
     "metadata": {},
     "output_type": "execute_result"
    }
   ],
   "source": []
  },
  {
   "cell_type": "code",
   "execution_count": 38,
   "metadata": {},
   "outputs": [
    {
     "data": {
      "text/plain": [
       "[1, 4, 9, 16, 4356, 585225, 974169, 4]"
      ]
     },
     "execution_count": 38,
     "metadata": {},
     "output_type": "execute_result"
    }
   ],
   "source": [
    "#Map aplica uma transformação a cada um dos elementos (tipo o .apply do pandas)\n",
    "list(map(lambda x:x**2,numeros))"
   ]
  },
  {
   "cell_type": "code",
   "execution_count": 39,
   "metadata": {},
   "outputs": [],
   "source": [
    "#Itertools ajuda a criar iteradores\n",
    "import itertools"
   ]
  },
  {
   "cell_type": "code",
   "execution_count": 40,
   "metadata": {},
   "outputs": [],
   "source": [
    "nomes = ['Cícero','Mônica','Eliza','Jaime']"
   ]
  },
  {
   "cell_type": "code",
   "execution_count": 41,
   "metadata": {},
   "outputs": [
    {
     "name": "stdout",
     "output_type": "stream",
     "text": [
      "Cícero\n",
      "Mônica\n",
      "Eliza\n",
      "Jaime\n",
      "Cícero\n",
      "Mônica\n",
      "Eliza\n",
      "Jaime\n",
      "Cícero\n",
      "Mônica\n",
      "Eliza\n",
      "Jaime\n"
     ]
    }
   ],
   "source": [
    "#.cycle permite iterar sobre os itens de maneira cíclica:\n",
    "ciclo = itertools.cycle(nomes)\n",
    "for i in range(12):\n",
    "    print(next(ciclo))"
   ]
  },
  {
   "cell_type": "code",
   "execution_count": 42,
   "metadata": {},
   "outputs": [
    {
     "data": {
      "text/plain": [
       "[10, 30, 60, 100, 150, 180, 200, 210]"
      ]
     },
     "execution_count": 42,
     "metadata": {},
     "output_type": "execute_result"
    }
   ],
   "source": [
    "#accumulate realiza operações cumulativas\n",
    "valores = [10,20,30,40,50,30,20,10]\n",
    "acumulado = itertools.accumulate(valores)\n",
    "list(acumulado)"
   ]
  },
  {
   "cell_type": "code",
   "execution_count": 48,
   "metadata": {},
   "outputs": [
    {
     "data": {
      "text/plain": [
       "[10, 20, 30, 40, 50, 50, 50, 50]"
      ]
     },
     "execution_count": 48,
     "metadata": {},
     "output_type": "execute_result"
    }
   ],
   "source": [
    "acumulado2 = itertools.accumulate(valores,max)\n",
    "list(acumulado2)"
   ]
  },
  {
   "cell_type": "code",
   "execution_count": 50,
   "metadata": {},
   "outputs": [
    {
     "data": {
      "text/plain": [
       "20"
      ]
     },
     "execution_count": 50,
     "metadata": {},
     "output_type": "execute_result"
    }
   ],
   "source": [
    "#Funções podem receber argumentos de tamanho variável \n",
    "def adicao(*args):\n",
    "    return sum(args)\n",
    "\n",
    "adicao(10,5,5)\n",
    "#obs: eu originalmente criaria um argumento único como uma \n",
    "# isso tb pode ser feito da seguinte maneira: \n",
    "valores = [10,5,5]\n",
    "adicao(*valores)\n",
    "\n",
    "#MAS ATENÇÃO!Se a função também recebe argumentos posicionais, isso pode levar a\n",
    "#problemas\n"
   ]
  },
  {
   "cell_type": "code",
   "execution_count": 52,
   "metadata": {},
   "outputs": [
    {
     "name": "stdout",
     "output_type": "stream",
     "text": [
      "[32.0, 53.6, 93.2, 212.0]\n"
     ]
    }
   ],
   "source": [
    "#Usando funções Lambda junto com a função map():\n",
    "temp_cel = [0,12,34,100]\n",
    "temp_far = [32,65,100,212]\n",
    "\n",
    "#celcius para far:\n",
    "result = map(lambda x:(x*9/5)+32, temp_cel)\n",
    "print(list(result))"
   ]
  },
  {
   "cell_type": "code",
   "execution_count": 53,
   "metadata": {},
   "outputs": [],
   "source": [
    "## Coleções avançadas:\n",
    "import collections"
   ]
  },
  {
   "cell_type": "code",
   "execution_count": 54,
   "metadata": {},
   "outputs": [],
   "source": [
    "#Tuplas nomeadas, named tuples (exemplo do ponto cartesiano,\n",
    "#ao longo do código pode se tornar confuso):\n",
    "ponto = (10,20) # quem é x, quem é y? meu deus estou confuso"
   ]
  },
  {
   "cell_type": "code",
   "execution_count": 55,
   "metadata": {},
   "outputs": [],
   "source": [
    "#usando uma named tuple nesse cenário:\n",
    "coordenadas = collections.namedtuple(\"Coordenadas\",['x','y'])"
   ]
  },
  {
   "cell_type": "code",
   "execution_count": 56,
   "metadata": {},
   "outputs": [],
   "source": [
    "ponto1 = coordenadas(10,20)"
   ]
  },
  {
   "cell_type": "code",
   "execution_count": 58,
   "metadata": {},
   "outputs": [
    {
     "data": {
      "text/plain": [
       "10"
      ]
     },
     "execution_count": 58,
     "metadata": {},
     "output_type": "execute_result"
    }
   ],
   "source": [
    "ponto1.x # da pra acessar fácil as coordenadas"
   ]
  },
  {
   "cell_type": "code",
   "execution_count": 60,
   "metadata": {},
   "outputs": [
    {
     "data": {
      "text/plain": [
       "Coordenadas(x=10, y=20)"
      ]
     },
     "execution_count": 60,
     "metadata": {},
     "output_type": "execute_result"
    }
   ],
   "source": [
    "ponto1 #lembra muito um jeito maneirinho de criar uma classse"
   ]
  },
  {
   "cell_type": "code",
   "execution_count": 63,
   "metadata": {},
   "outputs": [],
   "source": [
    "#da pra alterar o valor de um dos parâmetros: \n",
    "ponto1= ponto1._replace(x=40)"
   ]
  },
  {
   "cell_type": "code",
   "execution_count": 64,
   "metadata": {},
   "outputs": [
    {
     "data": {
      "text/plain": [
       "Coordenadas(x=40, y=20)"
      ]
     },
     "execution_count": 64,
     "metadata": {},
     "output_type": "execute_result"
    }
   ],
   "source": [
    "ponto1"
   ]
  },
  {
   "cell_type": "code",
   "execution_count": 68,
   "metadata": {},
   "outputs": [
    {
     "data": {
      "text/plain": [
       "defaultdict(int,\n",
       "            {'banana': 3,\n",
       "             'laranja': 1,\n",
       "             'laranjalaranja': 1,\n",
       "             'melao': 3,\n",
       "             'abacaxi': 3})"
      ]
     },
     "execution_count": 68,
     "metadata": {},
     "output_type": "execute_result"
    }
   ],
   "source": [
    "#Default Dict\n",
    "frutas = ['banana','banana','banana','laranja','laranja''laranja',\n",
    "          'melao','melao','melao','abacaxi','abacaxi','abacaxi']\n",
    "\n",
    "contador_frutas = collections.defaultdict(int) #--> essa função int serve para inicializar os valores como zero\n",
    "\n",
    "for fruta in frutas:\n",
    "    contador_frutas[fruta] += 1\n",
    "\n",
    "contador_frutas"
   ]
  },
  {
   "cell_type": "code",
   "execution_count": 69,
   "metadata": {},
   "outputs": [],
   "source": [
    "#Contando coisas com o Counter(que é uma subclasse de Counter)\n",
    "\n",
    "turma1 = ['Pedro','Pedro','João','Bruno','Maria','Maria','Eduarda']\n",
    "turma2 = ['Pedro','João','Bruno','Maria','Maria','Eduarda','Vitor','Thiago','Maria']\n"
   ]
  },
  {
   "cell_type": "code",
   "execution_count": 76,
   "metadata": {},
   "outputs": [],
   "source": [
    "counter_1 = collections.Counter(turma1)\n",
    "counter_2 = collections.Counter(turma2)"
   ]
  },
  {
   "cell_type": "code",
   "execution_count": 79,
   "metadata": {},
   "outputs": [
    {
     "name": "stdout",
     "output_type": "stream",
     "text": [
      "Counter({'Pedro': 2, 'Maria': 2, 'João': 1, 'Bruno': 1, 'Eduarda': 1})\n",
      "Counter({'Maria': 3, 'Pedro': 1, 'João': 1, 'Bruno': 1, 'Eduarda': 1, 'Vitor': 1, 'Thiago': 1})\n"
     ]
    }
   ],
   "source": [
    "print(counter_1)\n",
    "print(counter_2)"
   ]
  },
  {
   "cell_type": "code",
   "execution_count": 81,
   "metadata": {},
   "outputs": [
    {
     "name": "stdout",
     "output_type": "stream",
     "text": [
      "[('Pedro', 2), ('Maria', 2), ('João', 1)]\n",
      "[('Maria', 3), ('Pedro', 1), ('João', 1)]\n"
     ]
    }
   ],
   "source": [
    "#Uma coisa interessante é que vc consegue buscar os mais comuns assim:\n",
    "print(counter_1.most_common(3))\n",
    "print(counter_2.most_common(3))\n"
   ]
  }
 ],
 "metadata": {
  "kernelspec": {
   "display_name": "base",
   "language": "python",
   "name": "python3"
  },
  "language_info": {
   "codemirror_mode": {
    "name": "ipython",
    "version": 3
   },
   "file_extension": ".py",
   "mimetype": "text/x-python",
   "name": "python",
   "nbconvert_exporter": "python",
   "pygments_lexer": "ipython3",
   "version": "3.7.3"
  },
  "orig_nbformat": 4
 },
 "nbformat": 4,
 "nbformat_minor": 2
}
